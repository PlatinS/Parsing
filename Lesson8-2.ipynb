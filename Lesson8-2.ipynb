{
 "cells": [
  {
   "cell_type": "code",
   "execution_count": 2,
   "metadata": {},
   "outputs": [],
   "source": [
    "import numpy as np\n",
    "import pandas as pd\n",
    "from pandas import read_csv, DataFrame\n",
    "import datetime\n",
    "import warnings\n",
    "warnings.filterwarnings('ignore')\n",
    "from matplotlib import pyplot as plt\n",
    "%matplotlib inline"
   ]
  },
  {
   "cell_type": "code",
   "execution_count": 3,
   "metadata": {},
   "outputs": [],
   "source": [
    "# pip install ipywidgets\n",
    "# jupyter nbextension enable --py widgetsnbextension"
   ]
  },
  {
   "cell_type": "code",
   "execution_count": 4,
   "metadata": {},
   "outputs": [],
   "source": [
    "from ipywidgets import interactive\n",
    "import ipywidgets as widgets"
   ]
  },
  {
   "cell_type": "code",
   "execution_count": 5,
   "metadata": {},
   "outputs": [],
   "source": [
    "dataset = read_csv('opendata.csv',',', index_col=['date'], parse_dates=['date'])"
   ]
  },
  {
   "cell_type": "code",
   "execution_count": 6,
   "metadata": {},
   "outputs": [
    {
     "name": "stdout",
     "output_type": "stream",
     "text": [
      "<class 'pandas.core.frame.DataFrame'>\n",
      "DatetimeIndex: 74842 entries, 2013-01-15 to 2018-11-15\n",
      "Data columns (total 3 columns):\n",
      "name      74842 non-null object\n",
      "region    74842 non-null object\n",
      "value     74842 non-null int64\n",
      "dtypes: int64(1), object(2)\n",
      "memory usage: 2.3+ MB\n"
     ]
    }
   ],
   "source": [
    "dataset.info()"
   ]
  },
  {
   "cell_type": "code",
   "execution_count": 7,
   "metadata": {},
   "outputs": [
    {
     "data": {
      "text/html": [
       "<div>\n",
       "<style scoped>\n",
       "    .dataframe tbody tr th:only-of-type {\n",
       "        vertical-align: middle;\n",
       "    }\n",
       "\n",
       "    .dataframe tbody tr th {\n",
       "        vertical-align: top;\n",
       "    }\n",
       "\n",
       "    .dataframe thead th {\n",
       "        text-align: right;\n",
       "    }\n",
       "</style>\n",
       "<table border=\"1\" class=\"dataframe\">\n",
       "  <thead>\n",
       "    <tr style=\"text-align: right;\">\n",
       "      <th></th>\n",
       "      <th>name</th>\n",
       "      <th>region</th>\n",
       "      <th>value</th>\n",
       "    </tr>\n",
       "    <tr>\n",
       "      <th>date</th>\n",
       "      <th></th>\n",
       "      <th></th>\n",
       "      <th></th>\n",
       "    </tr>\n",
       "  </thead>\n",
       "  <tbody>\n",
       "    <tr>\n",
       "      <td>2013-01-15</td>\n",
       "      <td>Количество заявок на потребительские кредиты</td>\n",
       "      <td>Россия</td>\n",
       "      <td>571147</td>\n",
       "    </tr>\n",
       "    <tr>\n",
       "      <td>2013-02-15</td>\n",
       "      <td>Количество заявок на потребительские кредиты</td>\n",
       "      <td>Россия</td>\n",
       "      <td>504508</td>\n",
       "    </tr>\n",
       "    <tr>\n",
       "      <td>2013-03-15</td>\n",
       "      <td>Количество заявок на потребительские кредиты</td>\n",
       "      <td>Россия</td>\n",
       "      <td>628803</td>\n",
       "    </tr>\n",
       "    <tr>\n",
       "      <td>2013-04-15</td>\n",
       "      <td>Количество заявок на потребительские кредиты</td>\n",
       "      <td>Россия</td>\n",
       "      <td>836054</td>\n",
       "    </tr>\n",
       "    <tr>\n",
       "      <td>2013-05-15</td>\n",
       "      <td>Количество заявок на потребительские кредиты</td>\n",
       "      <td>Россия</td>\n",
       "      <td>867235</td>\n",
       "    </tr>\n",
       "  </tbody>\n",
       "</table>\n",
       "</div>"
      ],
      "text/plain": [
       "                                                    name  region   value\n",
       "date                                                                    \n",
       "2013-01-15  Количество заявок на потребительские кредиты  Россия  571147\n",
       "2013-02-15  Количество заявок на потребительские кредиты  Россия  504508\n",
       "2013-03-15  Количество заявок на потребительские кредиты  Россия  628803\n",
       "2013-04-15  Количество заявок на потребительские кредиты  Россия  836054\n",
       "2013-05-15  Количество заявок на потребительские кредиты  Россия  867235"
      ]
     },
     "execution_count": 7,
     "metadata": {},
     "output_type": "execute_result"
    }
   ],
   "source": [
    "dataset.head()"
   ]
  },
  {
   "cell_type": "code",
   "execution_count": 8,
   "metadata": {},
   "outputs": [],
   "source": [
    "def graf_plot(region,pokazatel,date1,date2):\n",
    "    df = dataset.query(\"region == @region & name == @pokazatel & date >= @date1 & date <= @date2\")\n",
    "    plt.figure(figsize=(14, 8))\n",
    "    plt.plot(df.index, df['value'], color=\"green\")\n",
    "    plt.title(pokazatel+\".  \"+region)\n",
    "    plt.ylabel('Значение');\n",
    "    plt.xlabel('Период');\n",
    "    plt.grid()\n",
    "    plt.show()"
   ]
  },
  {
   "cell_type": "code",
   "execution_count": 11,
   "metadata": {},
   "outputs": [
    {
     "data": {
      "application/vnd.jupyter.widget-view+json": {
       "model_id": "b3aeacf3193040afb187332e0ba77bb5",
       "version_major": 2,
       "version_minor": 0
      },
      "text/plain": [
       "interactive(children=(Dropdown(description='region', options=('Россия', 'Алтайский край', 'Амурская область', …"
      ]
     },
     "metadata": {},
     "output_type": "display_data"
    }
   ],
   "source": [
    "interactive_plot = interactive(graf_plot, region=list(dataset.region.unique()), \\\n",
    "                               pokazatel=list(dataset.name.unique()),\\\n",
    "                               date1=widgets.DatePicker(value=dataset.index.min()),\\\n",
    "                               date2=widgets.DatePicker(value=dataset.index.max())\n",
    "                              )\n",
    "output = interactive_plot.children[-1]\n",
    "interactive_plot"
   ]
  },
  {
   "cell_type": "code",
   "execution_count": null,
   "metadata": {},
   "outputs": [],
   "source": []
  }
 ],
 "metadata": {
  "kernelspec": {
   "display_name": "Python 3",
   "language": "python",
   "name": "python3"
  },
  "language_info": {
   "codemirror_mode": {
    "name": "ipython",
    "version": 3
   },
   "file_extension": ".py",
   "mimetype": "text/x-python",
   "name": "python",
   "nbconvert_exporter": "python",
   "pygments_lexer": "ipython3",
   "version": "3.7.4"
  }
 },
 "nbformat": 4,
 "nbformat_minor": 2
}
