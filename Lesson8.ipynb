{
 "cells": [
  {
   "cell_type": "code",
   "execution_count": 1,
   "metadata": {},
   "outputs": [],
   "source": [
    "import numpy as np\n",
    "import pandas as pd\n",
    "from pandas import read_csv, DataFrame\n",
    "import datetime\n",
    "from matplotlib import pyplot as plt"
   ]
  },
  {
   "cell_type": "code",
   "execution_count": 2,
   "metadata": {},
   "outputs": [],
   "source": [
    "%matplotlib inline"
   ]
  },
  {
   "cell_type": "code",
   "execution_count": 3,
   "metadata": {},
   "outputs": [],
   "source": [
    "dataset = read_csv('opendata.csv',',', index_col=['date'], parse_dates=['date'])"
   ]
  },
  {
   "cell_type": "code",
   "execution_count": 4,
   "metadata": {},
   "outputs": [
    {
     "data": {
      "text/html": [
       "<div>\n",
       "<style scoped>\n",
       "    .dataframe tbody tr th:only-of-type {\n",
       "        vertical-align: middle;\n",
       "    }\n",
       "\n",
       "    .dataframe tbody tr th {\n",
       "        vertical-align: top;\n",
       "    }\n",
       "\n",
       "    .dataframe thead th {\n",
       "        text-align: right;\n",
       "    }\n",
       "</style>\n",
       "<table border=\"1\" class=\"dataframe\">\n",
       "  <thead>\n",
       "    <tr style=\"text-align: right;\">\n",
       "      <th></th>\n",
       "      <th>name</th>\n",
       "      <th>region</th>\n",
       "      <th>value</th>\n",
       "    </tr>\n",
       "    <tr>\n",
       "      <th>date</th>\n",
       "      <th></th>\n",
       "      <th></th>\n",
       "      <th></th>\n",
       "    </tr>\n",
       "  </thead>\n",
       "  <tbody>\n",
       "    <tr>\n",
       "      <th>2013-01-15</th>\n",
       "      <td>Количество заявок на потребительские кредиты</td>\n",
       "      <td>Россия</td>\n",
       "      <td>571147</td>\n",
       "    </tr>\n",
       "    <tr>\n",
       "      <th>2013-02-15</th>\n",
       "      <td>Количество заявок на потребительские кредиты</td>\n",
       "      <td>Россия</td>\n",
       "      <td>504508</td>\n",
       "    </tr>\n",
       "    <tr>\n",
       "      <th>2013-03-15</th>\n",
       "      <td>Количество заявок на потребительские кредиты</td>\n",
       "      <td>Россия</td>\n",
       "      <td>628803</td>\n",
       "    </tr>\n",
       "    <tr>\n",
       "      <th>2013-04-15</th>\n",
       "      <td>Количество заявок на потребительские кредиты</td>\n",
       "      <td>Россия</td>\n",
       "      <td>836054</td>\n",
       "    </tr>\n",
       "    <tr>\n",
       "      <th>2013-05-15</th>\n",
       "      <td>Количество заявок на потребительские кредиты</td>\n",
       "      <td>Россия</td>\n",
       "      <td>867235</td>\n",
       "    </tr>\n",
       "  </tbody>\n",
       "</table>\n",
       "</div>"
      ],
      "text/plain": [
       "                                                    name  region   value\n",
       "date                                                                    \n",
       "2013-01-15  Количество заявок на потребительские кредиты  Россия  571147\n",
       "2013-02-15  Количество заявок на потребительские кредиты  Россия  504508\n",
       "2013-03-15  Количество заявок на потребительские кредиты  Россия  628803\n",
       "2013-04-15  Количество заявок на потребительские кредиты  Россия  836054\n",
       "2013-05-15  Количество заявок на потребительские кредиты  Россия  867235"
      ]
     },
     "execution_count": 4,
     "metadata": {},
     "output_type": "execute_result"
    }
   ],
   "source": [
    "dataset.head()"
   ]
  },
  {
   "cell_type": "code",
   "execution_count": 35,
   "metadata": {},
   "outputs": [
    {
     "name": "stdout",
     "output_type": "stream",
     "text": [
      "<class 'pandas.core.frame.DataFrame'>\n",
      "DatetimeIndex: 74842 entries, 2013-01-15 to 2018-11-15\n",
      "Data columns (total 3 columns):\n",
      "name      74842 non-null object\n",
      "region    74842 non-null object\n",
      "value     74842 non-null int64\n",
      "dtypes: int64(1), object(2)\n",
      "memory usage: 2.3+ MB\n"
     ]
    }
   ],
   "source": [
    "dataset.info()"
   ]
  },
  {
   "cell_type": "code",
   "execution_count": 5,
   "metadata": {},
   "outputs": [],
   "source": [
    "ds_region = pd.DataFrame(data=dataset.region.unique(), columns=['region'])"
   ]
  },
  {
   "cell_type": "code",
   "execution_count": 6,
   "metadata": {},
   "outputs": [
    {
     "name": "stdout",
     "output_type": "stream",
     "text": [
      "0   Россия\n",
      "1   Алтайский край\n",
      "2   Амурская область\n",
      "3   Архангельская область\n",
      "4   Астраханская область\n",
      "5   Белгородская область\n",
      "6   Брянская область\n",
      "7   Владимирская область\n",
      "8   Волгоградская область\n",
      "9   Вологодская область\n",
      "10   Воронежская область\n",
      "11   Еврейская автономная область\n",
      "12   Забайкальский край\n",
      "13   Ивановская область\n",
      "14   Иркутская область\n",
      "15   Кабардино-Балкарская Республика\n",
      "16   Калининградская область\n",
      "17   Калужская область\n",
      "18   Камчатский край\n",
      "19   Кемеровская область\n",
      "20   Кировская область\n",
      "21   Костромская область\n",
      "22   Краснодарский край\n",
      "23   Красноярский край\n",
      "24   Курганская область\n",
      "25   Курская область\n",
      "26   Ленинградская область\n",
      "27   Липецкая область\n",
      "28   Магаданская область\n",
      "29   Москва\n",
      "30   Московская область\n",
      "31   Мурманская область\n",
      "32   Ненецкий автономный округ\n",
      "33   Нижегородская область\n",
      "34   Новгородская область\n",
      "35   Новосибирская область\n",
      "36   Омская область\n",
      "37   Оренбургская область\n",
      "38   Орловская область\n",
      "39   Пензенская область\n",
      "40   Пермский край\n",
      "41   Приморский край\n",
      "42   Псковская область\n",
      "43   Республика Адыгея\n",
      "44   Республика Алтай (Горный Алтай)\n",
      "45   Республика Башкортостан\n",
      "46   Республика Бурятия\n",
      "47   Республика Дагестан\n",
      "48   Республика Ингушетия\n",
      "49   Республика Калмыкия\n",
      "50   Республика Карачаево-Черкессия\n",
      "51   Республика Карелия\n",
      "52   Республика Коми\n",
      "53   Республика Марий Эл\n",
      "54   Республика Мордовия\n",
      "55   Республика Саха (Якутия)\n",
      "56   Республика Северная Осетия-Алания\n",
      "57   Республика Татарстан\n",
      "58   Республика Тыва\n",
      "59   Республика Хакасия\n",
      "60   Ростовская область\n",
      "61   Рязанская область\n",
      "62   Самарская область\n",
      "63   Санкт-Петербург\n",
      "64   Саратовская область\n",
      "65   Сахалинская область\n",
      "66   Свердловская область\n",
      "67   Смоленская область\n",
      "68   Ставропольский край\n",
      "69   Тамбовская область\n",
      "70   Тверская область\n",
      "71   Томская область\n",
      "72   Тульская область\n",
      "73   Тюменская область\n",
      "74   Удмуртская Республика\n",
      "75   Ульяновская область\n",
      "76   Хабаровский край\n",
      "77   Ханты-Мансийский автономный округ — Югра\n",
      "78   Челябинская область\n",
      "79   Чеченская Республика\n",
      "80   Чувашская Республика\n",
      "81   Чукотский автономный округ\n",
      "82   Ямало-Ненецкий автономный округ\n",
      "83   Ярославская область\n"
     ]
    }
   ],
   "source": [
    "regions = len(ds_region)\n",
    "for i in range(regions):\n",
    "    print(i,\" \",ds_region.loc[i].region)"
   ]
  },
  {
   "cell_type": "code",
   "execution_count": 22,
   "metadata": {},
   "outputs": [
    {
     "name": "stdout",
     "output_type": "stream",
     "text": [
      "Введите номер региона: \n",
      "76\n",
      "Вы выбрали :  Хабаровский край\n"
     ]
    }
   ],
   "source": [
    "s_reg = input('Введите номер региона: \\n')\n",
    "n_reg = int(s_reg)\n",
    "v_reg = ds_region.loc[n_reg].region\n",
    "print(\"Вы выбрали : \", v_reg)"
   ]
  },
  {
   "cell_type": "code",
   "execution_count": 23,
   "metadata": {},
   "outputs": [],
   "source": [
    "ds_name = pd.DataFrame(data=dataset.name.unique(), columns=['pokazat'])"
   ]
  },
  {
   "cell_type": "code",
   "execution_count": 24,
   "metadata": {},
   "outputs": [
    {
     "data": {
      "text/html": [
       "<div>\n",
       "<style scoped>\n",
       "    .dataframe tbody tr th:only-of-type {\n",
       "        vertical-align: middle;\n",
       "    }\n",
       "\n",
       "    .dataframe tbody tr th {\n",
       "        vertical-align: top;\n",
       "    }\n",
       "\n",
       "    .dataframe thead th {\n",
       "        text-align: right;\n",
       "    }\n",
       "</style>\n",
       "<table border=\"1\" class=\"dataframe\">\n",
       "  <thead>\n",
       "    <tr style=\"text-align: right;\">\n",
       "      <th></th>\n",
       "      <th>pokazat</th>\n",
       "    </tr>\n",
       "  </thead>\n",
       "  <tbody>\n",
       "    <tr>\n",
       "      <th>0</th>\n",
       "      <td>Количество заявок на потребительские кредиты</td>\n",
       "    </tr>\n",
       "    <tr>\n",
       "      <th>1</th>\n",
       "      <td>Средняя сумма заявки на потребительский кредит</td>\n",
       "    </tr>\n",
       "    <tr>\n",
       "      <th>2</th>\n",
       "      <td>Количество заявок на ипотечные кредиты</td>\n",
       "    </tr>\n",
       "    <tr>\n",
       "      <th>3</th>\n",
       "      <td>Средняя сумма заявки на ипотечный кредит</td>\n",
       "    </tr>\n",
       "    <tr>\n",
       "      <th>4</th>\n",
       "      <td>Количество новых депозитов</td>\n",
       "    </tr>\n",
       "    <tr>\n",
       "      <th>5</th>\n",
       "      <td>Средняя сумма нового депозита</td>\n",
       "    </tr>\n",
       "    <tr>\n",
       "      <th>6</th>\n",
       "      <td>Средняя зарплата</td>\n",
       "    </tr>\n",
       "    <tr>\n",
       "      <th>7</th>\n",
       "      <td>Средняя пенсия</td>\n",
       "    </tr>\n",
       "    <tr>\n",
       "      <th>8</th>\n",
       "      <td>В среднем руб. на текущем счете на человека</td>\n",
       "    </tr>\n",
       "    <tr>\n",
       "      <th>9</th>\n",
       "      <td>В среднем депозитов в руб. на человека</td>\n",
       "    </tr>\n",
       "    <tr>\n",
       "      <th>10</th>\n",
       "      <td>Средние расходы по картам</td>\n",
       "    </tr>\n",
       "    <tr>\n",
       "      <th>11</th>\n",
       "      <td>Средний чек в формате Фастфуд</td>\n",
       "    </tr>\n",
       "    <tr>\n",
       "      <th>12</th>\n",
       "      <td>Средний чек в формате Ресторан</td>\n",
       "    </tr>\n",
       "    <tr>\n",
       "      <th>13</th>\n",
       "      <td>Средние траты в ресторане фастфуд</td>\n",
       "    </tr>\n",
       "    <tr>\n",
       "      <th>14</th>\n",
       "      <td>Средние траты в ресторане</td>\n",
       "    </tr>\n",
       "  </tbody>\n",
       "</table>\n",
       "</div>"
      ],
      "text/plain": [
       "                                           pokazat\n",
       "0     Количество заявок на потребительские кредиты\n",
       "1   Средняя сумма заявки на потребительский кредит\n",
       "2           Количество заявок на ипотечные кредиты\n",
       "3         Средняя сумма заявки на ипотечный кредит\n",
       "4                       Количество новых депозитов\n",
       "5                    Средняя сумма нового депозита\n",
       "6                                 Средняя зарплата\n",
       "7                                   Средняя пенсия\n",
       "8      В среднем руб. на текущем счете на человека\n",
       "9           В среднем депозитов в руб. на человека\n",
       "10                       Средние расходы по картам\n",
       "11                   Средний чек в формате Фастфуд\n",
       "12                  Средний чек в формате Ресторан\n",
       "13               Средние траты в ресторане фастфуд\n",
       "14                       Средние траты в ресторане"
      ]
     },
     "execution_count": 24,
     "metadata": {},
     "output_type": "execute_result"
    }
   ],
   "source": [
    "ds_name"
   ]
  },
  {
   "cell_type": "code",
   "execution_count": 25,
   "metadata": {},
   "outputs": [
    {
     "name": "stdout",
     "output_type": "stream",
     "text": [
      "Введите номер показателя: \n",
      "6\n",
      "Вы выбрали :  Средняя зарплата\n"
     ]
    }
   ],
   "source": [
    "s_name = input('Введите номер показателя: \\n')\n",
    "n_name = int(s_name)\n",
    "v_name = ds_name.loc[n_name].pokazat\n",
    "print(\"Вы выбрали : \", v_name)"
   ]
  },
  {
   "cell_type": "code",
   "execution_count": 27,
   "metadata": {},
   "outputs": [
    {
     "name": "stdout",
     "output_type": "stream",
     "text": [
      "Возможен выбор дат из диапазона:  2013-01-15 00:00:00  -  2019-01-15 00:00:00\n",
      "Введите начальную дату YYYY-MM-DD :2017-01-01\n",
      "Введите конечную дату YYYY-MM-DD :2018-12-31\n",
      "Вы выбрали :  2017-01-01  :  2018-12-31\n"
     ]
    }
   ],
   "source": [
    "print(\"Возможен выбор дат из диапазона: \",dataset.index.min(),\" - \", dataset.index.max())\n",
    "s_dat1 = input('Введите начальную дату YYYY-MM-DD :')\n",
    "year, month, day = map(int, s_dat1.split('-'))\n",
    "date1 = datetime.date(year, month, day)\n",
    "\n",
    "s_dat2 = input('Введите конечную дату YYYY-MM-DD :')\n",
    "year, month, day = map(int, s_dat2.split('-'))\n",
    "date2 = datetime.date(year, month, day)\n",
    "print(\"Вы выбрали : \", date1, \" : \", date2)"
   ]
  },
  {
   "cell_type": "code",
   "execution_count": 28,
   "metadata": {},
   "outputs": [],
   "source": [
    "df = dataset.query(\"region == @v_reg & name == @v_name & date >= @date1 & date <= @date2\")"
   ]
  },
  {
   "cell_type": "code",
   "execution_count": 36,
   "metadata": {},
   "outputs": [
    {
     "data": {
      "text/html": [
       "<div>\n",
       "<style scoped>\n",
       "    .dataframe tbody tr th:only-of-type {\n",
       "        vertical-align: middle;\n",
       "    }\n",
       "\n",
       "    .dataframe tbody tr th {\n",
       "        vertical-align: top;\n",
       "    }\n",
       "\n",
       "    .dataframe thead th {\n",
       "        text-align: right;\n",
       "    }\n",
       "</style>\n",
       "<table border=\"1\" class=\"dataframe\">\n",
       "  <thead>\n",
       "    <tr style=\"text-align: right;\">\n",
       "      <th></th>\n",
       "      <th>name</th>\n",
       "      <th>region</th>\n",
       "      <th>value</th>\n",
       "    </tr>\n",
       "    <tr>\n",
       "      <th>date</th>\n",
       "      <th></th>\n",
       "      <th></th>\n",
       "      <th></th>\n",
       "    </tr>\n",
       "  </thead>\n",
       "  <tbody>\n",
       "    <tr>\n",
       "      <th>2017-01-15</th>\n",
       "      <td>Средняя зарплата</td>\n",
       "      <td>Хабаровский край</td>\n",
       "      <td>25829</td>\n",
       "    </tr>\n",
       "    <tr>\n",
       "      <th>2017-02-15</th>\n",
       "      <td>Средняя зарплата</td>\n",
       "      <td>Хабаровский край</td>\n",
       "      <td>34137</td>\n",
       "    </tr>\n",
       "    <tr>\n",
       "      <th>2017-03-15</th>\n",
       "      <td>Средняя зарплата</td>\n",
       "      <td>Хабаровский край</td>\n",
       "      <td>34759</td>\n",
       "    </tr>\n",
       "    <tr>\n",
       "      <th>2017-04-15</th>\n",
       "      <td>Средняя зарплата</td>\n",
       "      <td>Хабаровский край</td>\n",
       "      <td>35104</td>\n",
       "    </tr>\n",
       "    <tr>\n",
       "      <th>2017-05-15</th>\n",
       "      <td>Средняя зарплата</td>\n",
       "      <td>Хабаровский край</td>\n",
       "      <td>35854</td>\n",
       "    </tr>\n",
       "  </tbody>\n",
       "</table>\n",
       "</div>"
      ],
      "text/plain": [
       "                        name            region  value\n",
       "date                                                 \n",
       "2017-01-15  Средняя зарплата  Хабаровский край  25829\n",
       "2017-02-15  Средняя зарплата  Хабаровский край  34137\n",
       "2017-03-15  Средняя зарплата  Хабаровский край  34759\n",
       "2017-04-15  Средняя зарплата  Хабаровский край  35104\n",
       "2017-05-15  Средняя зарплата  Хабаровский край  35854"
      ]
     },
     "execution_count": 36,
     "metadata": {},
     "output_type": "execute_result"
    }
   ],
   "source": [
    "df.head()"
   ]
  },
  {
   "cell_type": "code",
   "execution_count": 30,
   "metadata": {},
   "outputs": [],
   "source": [
    "import warnings\n",
    "warnings.filterwarnings('ignore')"
   ]
  },
  {
   "cell_type": "code",
   "execution_count": 33,
   "metadata": {},
   "outputs": [
    {
     "data": {
      "image/png": "[encoded data removed]",
      "text/plain": [
       "<Figure size 1008x576 with 1 Axes>"
      ]
     },
     "metadata": {
      "needs_background": "light"
     },
     "output_type": "display_data"
    }
   ],
   "source": [
    "plt.figure(figsize=(14, 8))\n",
    "plt.plot(df.index, df['value'], color=\"green\")\n",
    "plt.title(v_name+\".  \"+v_reg)\n",
    "plt.ylabel('Значение');\n",
    "plt.xlabel('Период');\n",
    "plt.grid()\n",
    "plt.show()"
   ]
  },
  {
   "cell_type": "code",
   "execution_count": null,
   "metadata": {},
   "outputs": [],
   "source": []
  }
 ],
 "metadata": {
  "kernelspec": {
   "display_name": "Python 3",
   "language": "python",
   "name": "python3"
  },
  "language_info": {
   "codemirror_mode": {
    "name": "ipython",
    "version": 3
   },
   "file_extension": ".py",
   "mimetype": "text/x-python",
   "name": "python",
   "nbconvert_exporter": "python",
   "pygments_lexer": "ipython3",
   "version": "3.7.4"
  }
 },
 "nbformat": 4,
 "nbformat_minor": 2
}
